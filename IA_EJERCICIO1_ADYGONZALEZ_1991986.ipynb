{
  "nbformat": 4,
  "nbformat_minor": 0,
  "metadata": {
    "colab": {
      "provenance": [],
      "collapsed_sections": [],
      "authorship_tag": "ABX9TyP11qP6C6XbUpiAEEnhZVcZ",
      "include_colab_link": true
    },
    "kernelspec": {
      "name": "python3",
      "display_name": "Python 3"
    },
    "language_info": {
      "name": "python"
    }
  },
  "cells": [
    {
      "cell_type": "markdown",
      "metadata": {
        "id": "view-in-github",
        "colab_type": "text"
      },
      "source": [
        "<a href=\"https://colab.research.google.com/github/adystuff/IA-y-RN/blob/main/IA_EJERCICIO1_ADYGONZALEZ_1991986.ipynb\" target=\"_parent\"><img src=\"https://colab.research.google.com/assets/colab-badge.svg\" alt=\"Open In Colab\"/></a>"
      ]
    },
    {
      "cell_type": "markdown",
      "source": [
        "Tarea A2: Ejercicios de Python // Ady Luisa Gonzalez Aguirre 1991986 // N1 \n",
        "\n",
        "\n",
        "1. Escribe un programa que le pida al usuario su nombre y que lo salude con su nombre, excepto si se llama Ana, Juan o Pedro"
      ],
      "metadata": {
        "id": "N57lFfe0pDWS"
      }
    },
    {
      "cell_type": "code",
      "execution_count": 61,
      "metadata": {
        "colab": {
          "base_uri": "https://localhost:8080/"
        },
        "id": "t7H9zgMQkFsN",
        "outputId": "cc5dacaf-6586-4f6e-81d8-38c559aebf1f"
      },
      "outputs": [
        {
          "output_type": "stream",
          "name": "stdout",
          "text": [
            "Cual es tu nombre?\n",
            "Angel\n",
            "Hola Angel :)\n"
          ]
        }
      ],
      "source": [
        "print(\"Cual es tu nombre?\")\n",
        "nombre = str(input())\n",
        "msg = \"Hola, lo siento no te puedo saludar por tu nombre:(\"\n",
        "\n",
        "if nombre==\"Juan\" or nombre==\"Ana\" or nombre==\"Pedro\" or nombre==\"juan\" or nombre==\"ana\" or nombre==\"pedro\":\n",
        "  print(msg)\n",
        "else:\n",
        "    print(\"Hola\" , nombre,\":)\")\n"
      ]
    },
    {
      "cell_type": "markdown",
      "source": [
        "2. Escribe una funcion que regrese el ultimo elemento de una lista y que revierta el orden de la lista e imprima la lista revertida"
      ],
      "metadata": {
        "id": "WVJ2Rb66oxGu"
      }
    },
    {
      "cell_type": "code",
      "source": [
        "lista = [\"Cinnamoroll\", \"Kuromi\", \"Pochacco\", \"Pompompurin\", \"Hello Kitty\", \"Badtz Maru\", \"My Melody\"]\n",
        "\n",
        "for x in lista:\n",
        "  print(x)\n"
      ],
      "metadata": {
        "colab": {
          "base_uri": "https://localhost:8080/"
        },
        "id": "ufpInFkgALAS",
        "outputId": "ee61c616-5779-4641-a568-d389d94d672e"
      },
      "execution_count": 131,
      "outputs": [
        {
          "output_type": "stream",
          "name": "stdout",
          "text": [
            "Cinnamoroll\n",
            "Kuromi\n",
            "Pochacco\n",
            "Pompompurin\n",
            "Hello Kitty\n",
            "Badtz Maru\n",
            "My Melody\n"
          ]
        }
      ]
    },
    {
      "cell_type": "code",
      "source": [
        "def funcion (lista):\n",
        "  print(lista[-1])\n",
        "  for x in range(len(lista)):\n",
        "    print(lista[x])\n",
        "    \n",
        "funcion(lista)"
      ],
      "metadata": {
        "colab": {
          "base_uri": "https://localhost:8080/"
        },
        "id": "05p77D5ECGhp",
        "outputId": "4143da18-4d50-4c43-defe-298e570b9489"
      },
      "execution_count": 132,
      "outputs": [
        {
          "output_type": "stream",
          "name": "stdout",
          "text": [
            "My Melody\n",
            "Cinnamoroll\n",
            "Kuromi\n",
            "Pochacco\n",
            "Pompompurin\n",
            "Hello Kitty\n",
            "Badtz Maru\n",
            "My Melody\n"
          ]
        }
      ]
    },
    {
      "cell_type": "markdown",
      "source": [
        "3. Escribe una funcion que toma una lista de strings y los imprima linea por linea en un marco rectangular"
      ],
      "metadata": {
        "id": "3Rh3A-fyEkKD"
      }
    },
    {
      "cell_type": "code",
      "source": [
        "\n",
        "for x in range(fila):\n",
        "  for y in range(columna):\n",
        "    if x == 0 or x == (columna-1) or y == 0 or y == (fila-1):\n",
        "     print(\"*\", end=\"\")\n",
        "  print(lista[:7],\"*\")\n"
      ],
      "metadata": {
        "colab": {
          "base_uri": "https://localhost:8080/"
        },
        "id": "0nF9hCPSE9x5",
        "outputId": "4bf2b4fe-b0c8-4ef3-a189-d95d243dff75"
      },
      "execution_count": 157,
      "outputs": [
        {
          "output_type": "stream",
          "name": "stdout",
          "text": [
            "*['Cinnamoroll', 'Kuromi', 'Pochacco', 'Pompompurin', 'Hello Kitty', 'Badtz Maru', 'My Melody'] *\n",
            "*['Cinnamoroll', 'Kuromi', 'Pochacco', 'Pompompurin', 'Hello Kitty', 'Badtz Maru', 'My Melody'] *\n",
            "*['Cinnamoroll', 'Kuromi', 'Pochacco', 'Pompompurin', 'Hello Kitty', 'Badtz Maru', 'My Melody'] *\n",
            "*['Cinnamoroll', 'Kuromi', 'Pochacco', 'Pompompurin', 'Hello Kitty', 'Badtz Maru', 'My Melody'] *\n",
            "*['Cinnamoroll', 'Kuromi', 'Pochacco', 'Pompompurin', 'Hello Kitty', 'Badtz Maru', 'My Melody'] *\n",
            "*['Cinnamoroll', 'Kuromi', 'Pochacco', 'Pompompurin', 'Hello Kitty', 'Badtz Maru', 'My Melody'] *\n",
            "*['Cinnamoroll', 'Kuromi', 'Pochacco', 'Pompompurin', 'Hello Kitty', 'Badtz Maru', 'My Melody'] *\n",
            "*['Cinnamoroll', 'Kuromi', 'Pochacco', 'Pompompurin', 'Hello Kitty', 'Badtz Maru', 'My Melody'] *\n"
          ]
        }
      ]
    }
  ]
}